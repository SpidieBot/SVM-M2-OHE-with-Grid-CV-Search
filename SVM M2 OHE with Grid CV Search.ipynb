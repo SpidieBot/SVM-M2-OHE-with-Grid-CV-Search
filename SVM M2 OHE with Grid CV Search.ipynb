{
 "cells": [
  {
   "cell_type": "code",
   "execution_count": 60,
   "metadata": {},
   "outputs": [],
   "source": [
    "from sklearn.model_selection import train_test_split\n",
    "from sklearn import metrics, svm\n",
    "from sklearn.linear_model import LogisticRegression\n",
    "from sklearn.naive_bayes import MultinomialNB\n",
    "from sklearn.tree import DecisionTreeClassifier\n",
    "from collections import Counter\n",
    "import pandas as pd\n",
    "import seaborn as sb\n",
    "import numpy as np\n",
    "import matplotlib.pyplot as plt\n",
    "from sklearn.model_selection import StratifiedKFold, cross_val_score\n",
    "from sklearn.preprocessing import LabelEncoder, OrdinalEncoder, StandardScaler"
   ]
  },
  {
   "cell_type": "code",
   "execution_count": 61,
   "metadata": {},
   "outputs": [],
   "source": [
    "#Dataset Overview\n",
    "dataset = pd.read_csv(\"DatasetRaw1.csv\")\n",
    "dataset = dataset[[\"LATE\",\"GENDER\",\"MARITAL\" , \"DISTRICT\",  \"EMPLOYMENT\",  \"INCOME\",  \"INSTALLMENT\",\n",
    "           \"TENOR\",  \"IG_MONTH\",  \"POSTING_MIDNIGHT\",  \"REL_ACCOUNT\",  \"FOLLOWERS\",  \"FOLLOWING\", \"IGPOST_MONTH\" ]]"
   ]
  },
  {
   "cell_type": "code",
   "execution_count": 62,
   "metadata": {
    "scrolled": true
   },
   "outputs": [],
   "source": [
    "#DATA PREPROCESSING = COLOUMN LATE\n",
    "for x in dataset[\"LATE\"]:\n",
    "    if(x != 0):\n",
    "        dataset['LATE'].replace({ x : 1 }, inplace=True)"
   ]
  },
  {
   "cell_type": "code",
   "execution_count": 63,
   "metadata": {},
   "outputs": [],
   "source": [
    "dataset['DISTRICT']= dataset['DISTRICT'].str.upper()"
   ]
  },
  {
   "cell_type": "code",
   "execution_count": 64,
   "metadata": {},
   "outputs": [
    {
     "name": "stdout",
     "output_type": "stream",
     "text": [
      "['MALE' 'FEMALE']\n",
      "['SINGLE' 'MARRIED']\n",
      "['OTHER' 'KABUPATEN BANDUNG' 'KOTA BANDUNG']\n",
      "['OTHER' 'WIRASWASTA' 'KARYAWAN' 'MANAJER']\n"
     ]
    }
   ],
   "source": [
    "print(dataset.GENDER.unique())\n",
    "print(dataset.MARITAL.unique())\n",
    "print(dataset.DISTRICT.unique())\n",
    "print(dataset.EMPLOYMENT.unique())"
   ]
  },
  {
   "cell_type": "code",
   "execution_count": 65,
   "metadata": {},
   "outputs": [],
   "source": [
    "from sklearn.preprocessing import OneHotEncoder"
   ]
  },
  {
   "cell_type": "code",
   "execution_count": 66,
   "metadata": {},
   "outputs": [],
   "source": [
    "ohe = OneHotEncoder(dtype=np.int, sparse=True)\n",
    "datasetNew = pd.DataFrame (\n",
    "    ohe.fit_transform(dataset[[\"GENDER\",\"MARITAL\" , \"DISTRICT\",  \"EMPLOYMENT\"]]).toarray(),\n",
    "    columns = ['GENDER_MALE','GENDER_FEMALE','MARITAL_SINGLE','MARITAL_MARRIED', 'DISTRICT_OTHER',\n",
    "               'DISTRICT_KABUPATEN BANDUNG','DISTRICT_KOTA BANDUNG', \n",
    "             'EMPLOYMENT_OTHER','EMPLOYMENT_WIRASWASTA','EMPLOYMENT_KARYAWAN','EMPLOYMENT_MANAJER'])"
   ]
  },
  {
   "cell_type": "code",
   "execution_count": 67,
   "metadata": {},
   "outputs": [],
   "source": [
    "datasetNew[[\"LATE\",  \"INCOME\",  \"INSTALLMENT\",\n",
    "           \"TENOR\",  \"IG_MONTH\",  \"POSTING_MIDNIGHT\",  \"REL_ACCOUNT\",  \"FOLLOWERS\",  \"FOLLOWING\", \"IGPOST_MONTH\" ]] =\\\n",
    "     dataset[[\"LATE\",  \"INCOME\",  \"INSTALLMENT\",\n",
    "           \"TENOR\",  \"IG_MONTH\",  \"POSTING_MIDNIGHT\",  \"REL_ACCOUNT\",  \"FOLLOWERS\",  \"FOLLOWING\", \"IGPOST_MONTH\" ]]"
   ]
  },
  {
   "cell_type": "code",
   "execution_count": 68,
   "metadata": {
    "scrolled": true
   },
   "outputs": [
    {
     "data": {
      "text/html": [
       "<div>\n",
       "<style scoped>\n",
       "    .dataframe tbody tr th:only-of-type {\n",
       "        vertical-align: middle;\n",
       "    }\n",
       "\n",
       "    .dataframe tbody tr th {\n",
       "        vertical-align: top;\n",
       "    }\n",
       "\n",
       "    .dataframe thead th {\n",
       "        text-align: right;\n",
       "    }\n",
       "</style>\n",
       "<table border=\"1\" class=\"dataframe\">\n",
       "  <thead>\n",
       "    <tr style=\"text-align: right;\">\n",
       "      <th></th>\n",
       "      <th>GENDER_MALE</th>\n",
       "      <th>GENDER_FEMALE</th>\n",
       "      <th>MARITAL_SINGLE</th>\n",
       "      <th>MARITAL_MARRIED</th>\n",
       "      <th>DISTRICT_OTHER</th>\n",
       "      <th>DISTRICT_KABUPATEN BANDUNG</th>\n",
       "      <th>DISTRICT_KOTA BANDUNG</th>\n",
       "      <th>EMPLOYMENT_OTHER</th>\n",
       "      <th>EMPLOYMENT_WIRASWASTA</th>\n",
       "      <th>EMPLOYMENT_KARYAWAN</th>\n",
       "      <th>...</th>\n",
       "      <th>LATE</th>\n",
       "      <th>INCOME</th>\n",
       "      <th>INSTALLMENT</th>\n",
       "      <th>TENOR</th>\n",
       "      <th>IG_MONTH</th>\n",
       "      <th>POSTING_MIDNIGHT</th>\n",
       "      <th>REL_ACCOUNT</th>\n",
       "      <th>FOLLOWERS</th>\n",
       "      <th>FOLLOWING</th>\n",
       "      <th>IGPOST_MONTH</th>\n",
       "    </tr>\n",
       "  </thead>\n",
       "  <tbody>\n",
       "    <tr>\n",
       "      <th>0</th>\n",
       "      <td>0</td>\n",
       "      <td>1</td>\n",
       "      <td>0</td>\n",
       "      <td>1</td>\n",
       "      <td>0</td>\n",
       "      <td>0</td>\n",
       "      <td>1</td>\n",
       "      <td>0</td>\n",
       "      <td>0</td>\n",
       "      <td>1</td>\n",
       "      <td>...</td>\n",
       "      <td>0</td>\n",
       "      <td>3000000</td>\n",
       "      <td>3760500</td>\n",
       "      <td>12</td>\n",
       "      <td>67</td>\n",
       "      <td>0</td>\n",
       "      <td>0</td>\n",
       "      <td>911</td>\n",
       "      <td>410</td>\n",
       "      <td>7</td>\n",
       "    </tr>\n",
       "    <tr>\n",
       "      <th>1</th>\n",
       "      <td>0</td>\n",
       "      <td>1</td>\n",
       "      <td>0</td>\n",
       "      <td>1</td>\n",
       "      <td>0</td>\n",
       "      <td>0</td>\n",
       "      <td>1</td>\n",
       "      <td>0</td>\n",
       "      <td>0</td>\n",
       "      <td>1</td>\n",
       "      <td>...</td>\n",
       "      <td>1</td>\n",
       "      <td>3785000</td>\n",
       "      <td>1430580</td>\n",
       "      <td>12</td>\n",
       "      <td>9</td>\n",
       "      <td>1</td>\n",
       "      <td>11</td>\n",
       "      <td>355</td>\n",
       "      <td>735</td>\n",
       "      <td>4</td>\n",
       "    </tr>\n",
       "    <tr>\n",
       "      <th>2</th>\n",
       "      <td>0</td>\n",
       "      <td>1</td>\n",
       "      <td>1</td>\n",
       "      <td>0</td>\n",
       "      <td>0</td>\n",
       "      <td>0</td>\n",
       "      <td>1</td>\n",
       "      <td>0</td>\n",
       "      <td>0</td>\n",
       "      <td>1</td>\n",
       "      <td>...</td>\n",
       "      <td>1</td>\n",
       "      <td>5000000</td>\n",
       "      <td>5028000</td>\n",
       "      <td>12</td>\n",
       "      <td>3</td>\n",
       "      <td>1</td>\n",
       "      <td>0</td>\n",
       "      <td>282</td>\n",
       "      <td>83</td>\n",
       "      <td>21</td>\n",
       "    </tr>\n",
       "    <tr>\n",
       "      <th>3</th>\n",
       "      <td>0</td>\n",
       "      <td>1</td>\n",
       "      <td>1</td>\n",
       "      <td>0</td>\n",
       "      <td>1</td>\n",
       "      <td>0</td>\n",
       "      <td>0</td>\n",
       "      <td>0</td>\n",
       "      <td>0</td>\n",
       "      <td>0</td>\n",
       "      <td>...</td>\n",
       "      <td>0</td>\n",
       "      <td>7000000</td>\n",
       "      <td>985000</td>\n",
       "      <td>2</td>\n",
       "      <td>31</td>\n",
       "      <td>0</td>\n",
       "      <td>74</td>\n",
       "      <td>731</td>\n",
       "      <td>561</td>\n",
       "      <td>5</td>\n",
       "    </tr>\n",
       "    <tr>\n",
       "      <th>4</th>\n",
       "      <td>0</td>\n",
       "      <td>1</td>\n",
       "      <td>1</td>\n",
       "      <td>0</td>\n",
       "      <td>0</td>\n",
       "      <td>1</td>\n",
       "      <td>0</td>\n",
       "      <td>1</td>\n",
       "      <td>0</td>\n",
       "      <td>0</td>\n",
       "      <td>...</td>\n",
       "      <td>0</td>\n",
       "      <td>2000000</td>\n",
       "      <td>1485000</td>\n",
       "      <td>6</td>\n",
       "      <td>49</td>\n",
       "      <td>0</td>\n",
       "      <td>25</td>\n",
       "      <td>436</td>\n",
       "      <td>461</td>\n",
       "      <td>5</td>\n",
       "    </tr>\n",
       "    <tr>\n",
       "      <th>...</th>\n",
       "      <td>...</td>\n",
       "      <td>...</td>\n",
       "      <td>...</td>\n",
       "      <td>...</td>\n",
       "      <td>...</td>\n",
       "      <td>...</td>\n",
       "      <td>...</td>\n",
       "      <td>...</td>\n",
       "      <td>...</td>\n",
       "      <td>...</td>\n",
       "      <td>...</td>\n",
       "      <td>...</td>\n",
       "      <td>...</td>\n",
       "      <td>...</td>\n",
       "      <td>...</td>\n",
       "      <td>...</td>\n",
       "      <td>...</td>\n",
       "      <td>...</td>\n",
       "      <td>...</td>\n",
       "      <td>...</td>\n",
       "      <td>...</td>\n",
       "    </tr>\n",
       "    <tr>\n",
       "      <th>95</th>\n",
       "      <td>0</td>\n",
       "      <td>1</td>\n",
       "      <td>1</td>\n",
       "      <td>0</td>\n",
       "      <td>1</td>\n",
       "      <td>0</td>\n",
       "      <td>0</td>\n",
       "      <td>0</td>\n",
       "      <td>0</td>\n",
       "      <td>1</td>\n",
       "      <td>...</td>\n",
       "      <td>0</td>\n",
       "      <td>1500000</td>\n",
       "      <td>543000</td>\n",
       "      <td>6</td>\n",
       "      <td>49</td>\n",
       "      <td>0</td>\n",
       "      <td>1</td>\n",
       "      <td>446</td>\n",
       "      <td>328</td>\n",
       "      <td>8</td>\n",
       "    </tr>\n",
       "    <tr>\n",
       "      <th>96</th>\n",
       "      <td>0</td>\n",
       "      <td>1</td>\n",
       "      <td>1</td>\n",
       "      <td>0</td>\n",
       "      <td>0</td>\n",
       "      <td>1</td>\n",
       "      <td>0</td>\n",
       "      <td>1</td>\n",
       "      <td>0</td>\n",
       "      <td>0</td>\n",
       "      <td>...</td>\n",
       "      <td>0</td>\n",
       "      <td>3000000</td>\n",
       "      <td>301500</td>\n",
       "      <td>3</td>\n",
       "      <td>19</td>\n",
       "      <td>1</td>\n",
       "      <td>0</td>\n",
       "      <td>126</td>\n",
       "      <td>336</td>\n",
       "      <td>1</td>\n",
       "    </tr>\n",
       "    <tr>\n",
       "      <th>97</th>\n",
       "      <td>0</td>\n",
       "      <td>1</td>\n",
       "      <td>1</td>\n",
       "      <td>0</td>\n",
       "      <td>0</td>\n",
       "      <td>1</td>\n",
       "      <td>0</td>\n",
       "      <td>0</td>\n",
       "      <td>0</td>\n",
       "      <td>0</td>\n",
       "      <td>...</td>\n",
       "      <td>0</td>\n",
       "      <td>12500000</td>\n",
       "      <td>17846844</td>\n",
       "      <td>12</td>\n",
       "      <td>49</td>\n",
       "      <td>0</td>\n",
       "      <td>0</td>\n",
       "      <td>1494</td>\n",
       "      <td>266</td>\n",
       "      <td>4</td>\n",
       "    </tr>\n",
       "    <tr>\n",
       "      <th>98</th>\n",
       "      <td>0</td>\n",
       "      <td>1</td>\n",
       "      <td>1</td>\n",
       "      <td>0</td>\n",
       "      <td>0</td>\n",
       "      <td>0</td>\n",
       "      <td>1</td>\n",
       "      <td>0</td>\n",
       "      <td>0</td>\n",
       "      <td>1</td>\n",
       "      <td>...</td>\n",
       "      <td>0</td>\n",
       "      <td>5000000</td>\n",
       "      <td>5028000</td>\n",
       "      <td>12</td>\n",
       "      <td>82</td>\n",
       "      <td>0</td>\n",
       "      <td>0</td>\n",
       "      <td>131</td>\n",
       "      <td>31</td>\n",
       "      <td>1</td>\n",
       "    </tr>\n",
       "    <tr>\n",
       "      <th>99</th>\n",
       "      <td>1</td>\n",
       "      <td>0</td>\n",
       "      <td>0</td>\n",
       "      <td>1</td>\n",
       "      <td>0</td>\n",
       "      <td>0</td>\n",
       "      <td>1</td>\n",
       "      <td>1</td>\n",
       "      <td>0</td>\n",
       "      <td>0</td>\n",
       "      <td>...</td>\n",
       "      <td>0</td>\n",
       "      <td>1700000</td>\n",
       "      <td>2160000</td>\n",
       "      <td>10</td>\n",
       "      <td>53</td>\n",
       "      <td>0</td>\n",
       "      <td>0</td>\n",
       "      <td>300</td>\n",
       "      <td>992</td>\n",
       "      <td>2</td>\n",
       "    </tr>\n",
       "  </tbody>\n",
       "</table>\n",
       "<p>100 rows × 21 columns</p>\n",
       "</div>"
      ],
      "text/plain": [
       "    GENDER_MALE  GENDER_FEMALE  MARITAL_SINGLE  MARITAL_MARRIED  \\\n",
       "0             0              1               0                1   \n",
       "1             0              1               0                1   \n",
       "2             0              1               1                0   \n",
       "3             0              1               1                0   \n",
       "4             0              1               1                0   \n",
       "..          ...            ...             ...              ...   \n",
       "95            0              1               1                0   \n",
       "96            0              1               1                0   \n",
       "97            0              1               1                0   \n",
       "98            0              1               1                0   \n",
       "99            1              0               0                1   \n",
       "\n",
       "    DISTRICT_OTHER  DISTRICT_KABUPATEN BANDUNG  DISTRICT_KOTA BANDUNG  \\\n",
       "0                0                           0                      1   \n",
       "1                0                           0                      1   \n",
       "2                0                           0                      1   \n",
       "3                1                           0                      0   \n",
       "4                0                           1                      0   \n",
       "..             ...                         ...                    ...   \n",
       "95               1                           0                      0   \n",
       "96               0                           1                      0   \n",
       "97               0                           1                      0   \n",
       "98               0                           0                      1   \n",
       "99               0                           0                      1   \n",
       "\n",
       "    EMPLOYMENT_OTHER  EMPLOYMENT_WIRASWASTA  EMPLOYMENT_KARYAWAN  ...  LATE  \\\n",
       "0                  0                      0                    1  ...     0   \n",
       "1                  0                      0                    1  ...     1   \n",
       "2                  0                      0                    1  ...     1   \n",
       "3                  0                      0                    0  ...     0   \n",
       "4                  1                      0                    0  ...     0   \n",
       "..               ...                    ...                  ...  ...   ...   \n",
       "95                 0                      0                    1  ...     0   \n",
       "96                 1                      0                    0  ...     0   \n",
       "97                 0                      0                    0  ...     0   \n",
       "98                 0                      0                    1  ...     0   \n",
       "99                 1                      0                    0  ...     0   \n",
       "\n",
       "      INCOME  INSTALLMENT  TENOR  IG_MONTH  POSTING_MIDNIGHT  REL_ACCOUNT  \\\n",
       "0    3000000      3760500     12        67                 0            0   \n",
       "1    3785000      1430580     12         9                 1           11   \n",
       "2    5000000      5028000     12         3                 1            0   \n",
       "3    7000000       985000      2        31                 0           74   \n",
       "4    2000000      1485000      6        49                 0           25   \n",
       "..       ...          ...    ...       ...               ...          ...   \n",
       "95   1500000       543000      6        49                 0            1   \n",
       "96   3000000       301500      3        19                 1            0   \n",
       "97  12500000     17846844     12        49                 0            0   \n",
       "98   5000000      5028000     12        82                 0            0   \n",
       "99   1700000      2160000     10        53                 0            0   \n",
       "\n",
       "    FOLLOWERS  FOLLOWING  IGPOST_MONTH  \n",
       "0         911        410             7  \n",
       "1         355        735             4  \n",
       "2         282         83            21  \n",
       "3         731        561             5  \n",
       "4         436        461             5  \n",
       "..        ...        ...           ...  \n",
       "95        446        328             8  \n",
       "96        126        336             1  \n",
       "97       1494        266             4  \n",
       "98        131         31             1  \n",
       "99        300        992             2  \n",
       "\n",
       "[100 rows x 21 columns]"
      ]
     },
     "execution_count": 68,
     "metadata": {},
     "output_type": "execute_result"
    }
   ],
   "source": [
    "datasetNew"
   ]
  },
  {
   "cell_type": "code",
   "execution_count": 69,
   "metadata": {},
   "outputs": [
    {
     "data": {
      "image/png": "[encoded data removed]",
      "text/plain": [
       "<Figure size 2160x1080 with 2 Axes>"
      ]
     },
     "metadata": {
      "needs_background": "light"
     },
     "output_type": "display_data"
    }
   ],
   "source": [
    "plt.subplots(figsize=(30,15))\n",
    "sb.heatmap(dataset.corr(), annot=True)\n",
    "plt.show()"
   ]
  },
  {
   "cell_type": "code",
   "execution_count": 70,
   "metadata": {},
   "outputs": [
    {
     "name": "stdout",
     "output_type": "stream",
     "text": [
      "LATE                          1.000000\n",
      "TENOR                         0.373300\n",
      "POSTING_MIDNIGHT              0.260929\n",
      "FOLLOWING                     0.229467\n",
      "IGPOST_MONTH                  0.186938\n",
      "EMPLOYMENT_KARYAWAN           0.175746\n",
      "EMPLOYMENT_WIRASWASTA         0.113787\n",
      "GENDER_MALE                   0.097399\n",
      "DISTRICT_OTHER                0.083542\n",
      "DISTRICT_KOTA BANDUNG         0.051506\n",
      "MARITAL_SINGLE                0.013228\n",
      "FOLLOWERS                     0.005191\n",
      "MARITAL_MARRIED              -0.013228\n",
      "EMPLOYMENT_MANAJER           -0.055414\n",
      "GENDER_FEMALE                -0.097399\n",
      "INSTALLMENT                  -0.103886\n",
      "DISTRICT_KABUPATEN BANDUNG   -0.122525\n",
      "REL_ACCOUNT                  -0.133731\n",
      "IG_MONTH                     -0.178479\n",
      "EMPLOYMENT_OTHER             -0.185256\n",
      "INCOME                       -0.222132\n",
      "Name: LATE, dtype: float64\n"
     ]
    }
   ],
   "source": [
    "corr = datasetNew.corr().sort_values('LATE',ascending=False)\n",
    "value = corr['LATE']\n",
    "print(value)"
   ]
  },
  {
   "cell_type": "code",
   "execution_count": 71,
   "metadata": {},
   "outputs": [],
   "source": [
    "X = datasetNew[['GENDER_MALE','GENDER_FEMALE','MARITAL_SINGLE','MARITAL_MARRIED', 'DISTRICT_OTHER',\n",
    "               'DISTRICT_KABUPATEN BANDUNG','DISTRICT_KOTA BANDUNG', \n",
    "             'EMPLOYMENT_OTHER','EMPLOYMENT_WIRASWASTA','EMPLOYMENT_KARYAWAN','EMPLOYMENT_MANAJER', \n",
    "                \"INCOME\",  \"INSTALLMENT\",\n",
    "           \"TENOR\",  \"IG_MONTH\",  \"POSTING_MIDNIGHT\",  \"REL_ACCOUNT\",  \"FOLLOWERS\",  \"FOLLOWING\", \"IGPOST_MONTH\"  ]]\n",
    "Y = datasetNew['LATE']"
   ]
  },
  {
   "cell_type": "code",
   "execution_count": 72,
   "metadata": {},
   "outputs": [],
   "source": [
    "#Split Data (Training & Testing)\n",
    "X_train, X_test, y_train, y_test = train_test_split(X, Y, test_size=0.3, random_state=20, stratify=dataset['LATE'])"
   ]
  },
  {
   "cell_type": "code",
   "execution_count": 73,
   "metadata": {
    "scrolled": false
   },
   "outputs": [
    {
     "name": "stderr",
     "output_type": "stream",
     "text": [
      "C:\\Users\\hp\\anaconda3\\lib\\site-packages\\ipykernel_launcher.py:5: SettingWithCopyWarning: \n",
      "A value is trying to be set on a copy of a slice from a DataFrame.\n",
      "Try using .loc[row_indexer,col_indexer] = value instead\n",
      "\n",
      "See the caveats in the documentation: https://pandas.pydata.org/pandas-docs/stable/user_guide/indexing.html#returning-a-view-versus-a-copy\n",
      "  \"\"\"\n",
      "C:\\Users\\hp\\anaconda3\\lib\\site-packages\\pandas\\core\\indexing.py:965: SettingWithCopyWarning: \n",
      "A value is trying to be set on a copy of a slice from a DataFrame.\n",
      "Try using .loc[row_indexer,col_indexer] = value instead\n",
      "\n",
      "See the caveats in the documentation: https://pandas.pydata.org/pandas-docs/stable/user_guide/indexing.html#returning-a-view-versus-a-copy\n",
      "  self.obj[item] = s\n",
      "C:\\Users\\hp\\anaconda3\\lib\\site-packages\\ipykernel_launcher.py:8: SettingWithCopyWarning: \n",
      "A value is trying to be set on a copy of a slice from a DataFrame.\n",
      "Try using .loc[row_indexer,col_indexer] = value instead\n",
      "\n",
      "See the caveats in the documentation: https://pandas.pydata.org/pandas-docs/stable/user_guide/indexing.html#returning-a-view-versus-a-copy\n",
      "  \n",
      "C:\\Users\\hp\\anaconda3\\lib\\site-packages\\pandas\\core\\indexing.py:965: SettingWithCopyWarning: \n",
      "A value is trying to be set on a copy of a slice from a DataFrame.\n",
      "Try using .loc[row_indexer,col_indexer] = value instead\n",
      "\n",
      "See the caveats in the documentation: https://pandas.pydata.org/pandas-docs/stable/user_guide/indexing.html#returning-a-view-versus-a-copy\n",
      "  self.obj[item] = s\n"
     ]
    }
   ],
   "source": [
    "from sklearn.preprocessing import StandardScaler, MinMaxScaler, Normalizer\n",
    "sc = StandardScaler()\n",
    "X_train[[\"INCOME\",  \"INSTALLMENT\", \"TENOR\",  \"IG_MONTH\",  \"POSTING_MIDNIGHT\",  \"REL_ACCOUNT\",  \n",
    "         \"FOLLOWERS\",  \"FOLLOWING\", \"IGPOST_MONTH\"]] = sc.fit_transform(X_train[[\"INCOME\",  \"INSTALLMENT\",\n",
    "           \"TENOR\",  \"IG_MONTH\",  \"POSTING_MIDNIGHT\",  \"REL_ACCOUNT\",  \"FOLLOWERS\",  \"FOLLOWING\", \"IGPOST_MONTH\"]])\n",
    "X_test[[\"INCOME\",  \"INSTALLMENT\", \"TENOR\",  \"IG_MONTH\",  \"POSTING_MIDNIGHT\",  \"REL_ACCOUNT\",  \n",
    "         \"FOLLOWERS\",  \"FOLLOWING\", \"IGPOST_MONTH\"]] = sc.transform(X_test[[\"INCOME\",  \"INSTALLMENT\", \"TENOR\",  \"IG_MONTH\",  \"POSTING_MIDNIGHT\",  \"REL_ACCOUNT\",  \n",
    "         \"FOLLOWERS\",  \"FOLLOWING\", \"IGPOST_MONTH\"]])"
   ]
  },
  {
   "cell_type": "code",
   "execution_count": 74,
   "metadata": {},
   "outputs": [],
   "source": [
    "from sklearn.model_selection import GridSearchCV"
   ]
  },
  {
   "cell_type": "code",
   "execution_count": 75,
   "metadata": {},
   "outputs": [],
   "source": [
    "param_grid = [\n",
    "  {'C': [0.01, 0.1, 1, 2, 3, 4, 5, 6, 10, 100], 'kernel': ['linear']}\n",
    "   ]"
   ]
  },
  {
   "cell_type": "code",
   "execution_count": 76,
   "metadata": {},
   "outputs": [
    {
     "data": {
      "text/plain": [
       "GridSearchCV(cv=5, error_score=nan,\n",
       "             estimator=SVC(C=1.0, break_ties=False, cache_size=200,\n",
       "                           class_weight=None, coef0=0.0,\n",
       "                           decision_function_shape='ovr', degree=3,\n",
       "                           gamma='scale', kernel='rbf', max_iter=-1,\n",
       "                           probability=False, random_state=None, shrinking=True,\n",
       "                           tol=0.001, verbose=False),\n",
       "             iid='deprecated', n_jobs=None,\n",
       "             param_grid=[{'C': [0.01, 0.1, 1, 2, 3, 4, 5, 6, 10, 100],\n",
       "                          'kernel': ['linear']}],\n",
       "             pre_dispatch='2*n_jobs', refit=True, return_train_score=False,\n",
       "             scoring=None, verbose=0)"
      ]
     },
     "execution_count": 76,
     "metadata": {},
     "output_type": "execute_result"
    }
   ],
   "source": [
    "SV_Model = svm.SVC()\n",
    "GridS = GridSearchCV(SV_Model, param_grid, cv=5)\n",
    "GridS.fit(X_train, y_train)"
   ]
  },
  {
   "cell_type": "code",
   "execution_count": 77,
   "metadata": {},
   "outputs": [
    {
     "data": {
      "text/plain": [
       "{'C': 0.01, 'kernel': 'linear'}"
      ]
     },
     "execution_count": 77,
     "metadata": {},
     "output_type": "execute_result"
    }
   ],
   "source": [
    "GridS.best_params_"
   ]
  },
  {
   "cell_type": "code",
   "execution_count": 78,
   "metadata": {},
   "outputs": [],
   "source": [
    "clf = svm.SVC (C=0.01, kernel='linear', gamma='auto', probability=True)\n",
    "clf.fit(X_train, y_train)\n",
    "y_pred = clf.predict(X_test)\n",
    "predict = clf.predict(X_train)"
   ]
  },
  {
   "cell_type": "code",
   "execution_count": 79,
   "metadata": {},
   "outputs": [
    {
     "name": "stdout",
     "output_type": "stream",
     "text": [
      "Accuracy CV STD & Mean for SVM:\n",
      "0.03499271061118824 0.6857142857142857\n",
      "Recall CV STD & Mean for SVM:\n",
      "0.0 0.0\n",
      "Precision CV STD & Mean for SVM:\n",
      "0.0 0.0\n"
     ]
    }
   ],
   "source": [
    "svm_cvscore = cross_val_score(clf, X_train, y_train, scoring=('accuracy'), cv=5, n_jobs=-1)\n",
    "\n",
    "print('Accuracy CV STD & Mean for SVM:')\n",
    "print(np.std(svm_cvscore), np.mean(svm_cvscore))\n",
    "\n",
    "svm_cvscore = cross_val_score(clf, X_train, y_train, scoring=('recall'), cv=5, n_jobs=-1)\n",
    "\n",
    "print('Recall CV STD & Mean for SVM:')\n",
    "print(np.std(svm_cvscore), np.mean(svm_cvscore))\n",
    "\n",
    "svm_cvscore = cross_val_score(clf, X_train, y_train, scoring=('precision'), cv=5, n_jobs=-1)\n",
    "\n",
    "print('Precision CV STD & Mean for SVM:')\n",
    "print(np.std(svm_cvscore), np.mean(svm_cvscore))"
   ]
  },
  {
   "cell_type": "code",
   "execution_count": 80,
   "metadata": {},
   "outputs": [
    {
     "name": "stdout",
     "output_type": "stream",
     "text": [
      "              precision    recall  f1-score   support\n",
      "\n",
      "           0       0.69      1.00      0.81        48\n",
      "           1       0.00      0.00      0.00        22\n",
      "\n",
      "    accuracy                           0.69        70\n",
      "   macro avg       0.34      0.50      0.41        70\n",
      "weighted avg       0.47      0.69      0.56        70\n",
      "\n",
      "              precision    recall  f1-score   support\n",
      "\n",
      "           0       0.67      1.00      0.80        20\n",
      "           1       0.00      0.00      0.00        10\n",
      "\n",
      "    accuracy                           0.67        30\n",
      "   macro avg       0.33      0.50      0.40        30\n",
      "weighted avg       0.44      0.67      0.53        30\n",
      "\n",
      "Accuracy: 0.6666666666666666\n",
      "Precision: 0.0\n",
      "Recall: 0.0\n"
     ]
    },
    {
     "name": "stderr",
     "output_type": "stream",
     "text": [
      "C:\\Users\\hp\\anaconda3\\lib\\site-packages\\sklearn\\metrics\\_classification.py:1272: UndefinedMetricWarning: Precision and F-score are ill-defined and being set to 0.0 in labels with no predicted samples. Use `zero_division` parameter to control this behavior.\n",
      "  _warn_prf(average, modifier, msg_start, len(result))\n",
      "C:\\Users\\hp\\anaconda3\\lib\\site-packages\\sklearn\\metrics\\_classification.py:1272: UndefinedMetricWarning: Precision is ill-defined and being set to 0.0 due to no predicted samples. Use `zero_division` parameter to control this behavior.\n",
      "  _warn_prf(average, modifier, msg_start, len(result))\n"
     ]
    }
   ],
   "source": [
    "print(metrics.classification_report(y_train, predict))\n",
    "print(metrics.classification_report(y_test, y_pred))\n",
    "\n",
    "print(\"Accuracy:\", metrics.accuracy_score(y_test, y_pred))\n",
    "print(\"Precision:\", metrics.precision_score(y_test, y_pred))\n",
    "print(\"Recall:\", metrics.recall_score(y_test, y_pred))"
   ]
  },
  {
   "cell_type": "code",
   "execution_count": 81,
   "metadata": {},
   "outputs": [
    {
     "data": {
      "image/png": "[encoded data removed]",
      "text/plain": [
       "<Figure size 432x288 with 1 Axes>"
      ]
     },
     "metadata": {
      "needs_background": "light"
     },
     "output_type": "display_data"
    }
   ],
   "source": [
    "import sklearn.metrics as metrics\n",
    "# calculate the fpr and tpr for all thresholds of the classification\n",
    "probs = clf.predict_proba(X_test)\n",
    "preds = probs[:,1]\n",
    "fpr, tpr, threshold = metrics.roc_curve(y_test, preds)\n",
    "roc_auc = metrics.auc(fpr, tpr)\n",
    "\n",
    "# method I: plt\n",
    "import matplotlib.pyplot as plt\n",
    "plt.title('Receiver Operating Characteristic')\n",
    "plt.plot(fpr, tpr, 'b', label = 'AUC = %0.3f' % roc_auc)\n",
    "plt.legend(loc = 'lower right')\n",
    "plt.plot([0, 1], [0, 1],'r--')\n",
    "plt.xlim([0, 1])\n",
    "plt.ylim([0, 1])\n",
    "plt.ylabel('True Positive Rate')\n",
    "plt.xlabel('False Positive Rate')\n",
    "plt.show()"
   ]
  },
  {
   "cell_type": "code",
   "execution_count": 82,
   "metadata": {},
   "outputs": [
    {
     "name": "stdout",
     "output_type": "stream",
     "text": [
      "(0.002251814779166462, 0.0043702426443552635, 0.007862703410017791, 0.007862703410017798, 0.008204567811086584, 0.008204567811086605, 0.009642733406708752, 0.01, 0.010528904969962121, 0.010806135353065049, 0.015272490762353494, 0.015582269424253392, 0.01569718350074273, 0.01656151258432, 0.017834084203419857, 0.019739381934939994, 0.03796425803696824, 0.0389480688786875, 0.05927243476924675, 0.09140076138123229)\n"
     ]
    },
    {
     "data": {
      "image/png": "[encoded data removed]",
      "text/plain": [
       "<Figure size 432x288 with 1 Axes>"
      ]
     },
     "metadata": {
      "needs_background": "light"
     },
     "output_type": "display_data"
    }
   ],
   "source": [
    "def f_importances(imp,names, top=-1):\n",
    "    imp, names = zip(*sorted(list(zip(imp, names))))\n",
    "\n",
    "    # Show all features\n",
    "    if top == -1:\n",
    "        top = len(names)\n",
    "    print(imp)\n",
    "\n",
    "    plt.barh(range(top), imp[::-1][0:top], align='center')\n",
    "    plt.yticks(range(top), names[::-1][0:top])\n",
    "    plt.show()\n",
    "\n",
    "# whatever your features are called\n",
    "features_names = ['GENDER_MALE','GENDER_FEMALE','MARITAL_SINGLE','MARITAL_MARRIED', 'DISTRICT_OTHER',\n",
    "               'DISTRICT_KABUPATEN BANDUNG','DISTRICT_KOTA BANDUNG', \n",
    "             'EMPLOYMENT_OTHER','EMPLOYMENT_WIRASWASTA','EMPLOYMENT_KARYAWAN','EMPLOYMENT_MANAJER', \n",
    "                \"INCOME\",  \"INSTALLMENT\",\n",
    "           \"TENOR\",  \"IG_MONTH\",  \"POSTING_MIDNIGHT\",  \"REL_ACCOUNT\",  \"FOLLOWERS\",  \"FOLLOWING\", \"IGPOST_MONTH\", \"LATE\" ] \n",
    "\n",
    "# Specify your top n features you want to visualize.\n",
    "# You can also discard the abs() function \n",
    "# if you are interested in negative contribution of features\n",
    "f_importances(abs(clf.coef_[0]), features_names, top=20)"
   ]
  }
 ],
 "metadata": {
  "kernelspec": {
   "display_name": "Python 3",
   "language": "python",
   "name": "python3"
  },
  "language_info": {
   "codemirror_mode": {
    "name": "ipython",
    "version": 3
   },
   "file_extension": ".py",
   "mimetype": "text/x-python",
   "name": "python",
   "nbconvert_exporter": "python",
   "pygments_lexer": "ipython3",
   "version": "3.7.6"
  }
 },
 "nbformat": 4,
 "nbformat_minor": 4
}
